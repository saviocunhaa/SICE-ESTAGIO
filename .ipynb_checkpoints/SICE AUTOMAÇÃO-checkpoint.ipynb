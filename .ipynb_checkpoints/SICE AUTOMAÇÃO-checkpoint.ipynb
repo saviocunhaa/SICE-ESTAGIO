{
 "cells": [
  {
   "cell_type": "code",
   "execution_count": 3,
   "id": "70c41ec3",
   "metadata": {},
   "outputs": [],
   "source": [
    "# AUTOÇÃO SISTEMA ENTRAR NO SICE\n",
    "\n",
    "from selenium import webdriver\n",
    "from selenium.webdriver.common.keys import Keys\n",
    "from selenium.webdriver.common.by import By\n",
    "import time\n",
    "import pyautogui\n",
    "\n",
    "\n",
    "navegador = webdriver.Chrome()\n",
    "#entrar no site do sice\n",
    "navegador.get(\"https://sice-orientador.seduc.ce.gov.br/sice-orientador/login.jsf\")\n",
    "#maximiza a tela\n",
    "pyautogui.hotkey('win', 'up')\n",
    "time.sleep(5)\n",
    "#entrar com usuario e senha\n",
    "navegador.find_element(By.XPATH, '//*[@id=\"formTable:j_idt97:txtlg\"]').send_keys(\"05770592389\")\n",
    "navegador.find_element(By.XPATH, '//*[@id=\"formTable:j_idt104:txtpw\"]').send_keys(\"99187225\")\n",
    "navegador.find_element(By.XPATH, '//*[@id=\"formTable:j_idt111:j_idt112\"]/span').click()\n",
    "time.sleep(5)\n",
    "\n",
    "#entrar na aba acompanhamento de visita\n",
    "navegador.find_element(By.XPATH, '//*[@id=\"menuBar\"]/ul/li[2]/a').click()\n",
    "time.sleep(2)\n",
    "navegador.find_element(By.XPATH, '//*[@id=\"menuBar\"]/ul/li[2]/ul/li[2]/a').click()\n",
    "time.sleep(1)\n",
    "\n",
    "#cria um novo acompanhamento\n",
    "navegador.find_element(By.XPATH, '//*[@id=\"novo\"]').click()\n",
    "time.sleep(3)\n",
    "\n",
    "#digita o ano 2022\n",
    "navegador.find_element(By.XPATH, '//*[@id=\"ano\"]').send_keys(\"2022\")\n",
    "\n",
    "    \n",
    "\n"
   ]
  },
  {
   "cell_type": "code",
   "execution_count": 9,
   "id": "77c28a10",
   "metadata": {},
   "outputs": [],
   "source": [
    "#codigo para marcar como sempre(100%) Avaliação Atitudinal\n",
    "from selenium import webdriver\n",
    "from selenium.webdriver.common.keys import Keys\n",
    "from selenium.webdriver.common.by import By\n",
    "import time\n",
    "import pyautogui\n",
    "\n",
    "time.sleep(1)\n",
    "\n",
    "#loop para marcar as 22 box de 100%\n",
    "\n",
    "n = 0\n",
    "pagina = 22\n",
    "while n<=pagina:\n",
    "    navegador.find_element(By.XPATH, f'//*[@id=\"criterio:{n}:j_idt286:0\"]').click()\n",
    "    n=n+1\n",
    "\n",
    "#preencher o campo de relaização de visita no dia, ADICIONAR TODAS AS VISITAS AQUI \n",
    "navegador.find_element(By.XPATH, '//*[@id=\"obsAA\"]').send_keys(\"\"\"\n",
    "Visita Realizada em: \n",
    "03/08/2022\n",
    "09/08/2022\n",
    "16/08/2022\n",
    "23/08/2022\n",
    "\"\"\")\n",
    "\n",
    "navegador.find_element(By.XPATH, '//*[@id=\"salvar\"]').click()\n",
    "\n"
   ]
  },
  {
   "cell_type": "code",
   "execution_count": null,
   "id": "bdd2c73c",
   "metadata": {},
   "outputs": [],
   "source": []
  }
 ],
 "metadata": {
  "kernelspec": {
   "display_name": "Python 3 (ipykernel)",
   "language": "python",
   "name": "python3"
  },
  "language_info": {
   "codemirror_mode": {
    "name": "ipython",
    "version": 3
   },
   "file_extension": ".py",
   "mimetype": "text/x-python",
   "name": "python",
   "nbconvert_exporter": "python",
   "pygments_lexer": "ipython3",
   "version": "3.9.12"
  }
 },
 "nbformat": 4,
 "nbformat_minor": 5
}
