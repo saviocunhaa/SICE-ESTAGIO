{
 "cells": [
  {
   "cell_type": "code",
   "execution_count": 1,
   "id": "70c41ec3",
   "metadata": {},
   "outputs": [],
   "source": [
    "# AUTOÇÃO SISTEMA ENTRAR NO SICE\n",
    "\n",
    "#INSTALE AS BIBLIOTECAS NECESSARIAS SE PRECISAR\n",
    "\n",
    "from selenium.webdriver.chrome.service import Service as ChromeService\n",
    "from selenium.webdriver.common.by import By\n",
    "from selenium import webdriver\n",
    "import time\n",
    "import pyautogui\n",
    "\n",
    "# Defina o caminho para o ChromeDriver\n",
    "chromedriver_path = r'C:\\Users\\Sávio Cunha\\AppData\\Local\\Programs\\Python\\Python311\\chromedriver.exe'\n",
    "\n",
    "# Configurar o serviço do ChromeDriver\n",
    "service = ChromeService(executable_path=chromedriver_path)\n",
    "\n",
    "# Criar uma instância do Chrome WebDriver\n",
    "navegador = webdriver.Chrome(service=service)\n",
    "#entrar no site do sice\n",
    "navegador.get(\"https://sice-orientador.seduc.ce.gov.br/sice-orientador/login.jsf\")\n",
    "#maximiza a tela\n",
    "pyautogui.hotkey('win', 'up')\n",
    "time.sleep(5)\n",
    "#entrar com usuario e senha\n",
    "navegador.find_element(By.XPATH, '//*[@id=\"formTable:j_idt97:txtlg\"]').send_keys(\"SEU USUARIO\") #ALTERAR AQUI\n",
    "navegador.find_element(By.XPATH, '//*[@id=\"formTable:j_idt104:txtpw\"]').send_keys(\"SUA SENHA\") #ALTERAR AQUI\n",
    "navegador.find_element(By.XPATH, '//*[@id=\"formTable:j_idt111:j_idt112\"]/span').click()\n",
    "time.sleep(5)\n",
    "\n",
    "#entrar na aba acompanhamento de visita\n",
    "navegador.find_element(By.XPATH, '//*[@id=\"menuBar\"]/ul/li[2]/a').click()\n",
    "time.sleep(2)\n",
    "navegador.find_element(By.XPATH, '//*[@id=\"menuBar\"]/ul/li[2]/ul/li[2]/a').click()\n",
    "time.sleep(1)\n",
    "\n",
    "#cria um novo acompanhamento\n",
    "navegador.find_element(By.XPATH, '//*[@id=\"novo\"]').click()\n",
    "time.sleep(3)\n",
    "\n",
    "#digita o ano 2023\n",
    "navegador.find_element(By.XPATH, '//*[@id=\"ano\"]').send_keys(\"2023\") #ALTERE O ANO AQUI \n",
    "\n",
    "    \n",
    "\n"
   ]
  },
  {
   "cell_type": "code",
   "execution_count": null,
   "id": "77c28a10",
   "metadata": {},
   "outputs": [],
   "source": [
    "#codigo para marcar como sempre(100%) Avaliação Atitudinal E AGILIZAR OS LANÇAMENTOS\n",
    "from selenium import webdriver\n",
    "from selenium.webdriver.common.keys import Keys\n",
    "from selenium.webdriver.common.by import By\n",
    "import time\n",
    "import pyautogui\n",
    "\n",
    "time.sleep(1)\n",
    "\n",
    "\n",
    "navegador.find_element(By.XPATH, '//*[@id=\"obsAP\"]').send_keys(\"\"\"\n",
    "\n",
    "AQUI SÃO TODAS AS OBESRVAÇÕES DO CAMPO ATIVIDADE REALIZADA\n",
    "\n",
    "\n",
    "\"\"\")\n",
    "\n",
    "#loop para marcar as 22 box de 100%, AQUI É PARA AGILIZAR, DEPENDENDO DO ALUNO VC ALTERA MANUAL\n",
    "n = 0\n",
    "pagina = 22\n",
    "while n<=pagina:\n",
    "    navegador.find_element(By.XPATH, f'//*[@id=\"criterio:{n}:j_idt286:0\"]').click() #CASO NO SEU NAVEGADOR SO CONSIGA PREENCHER OS CHEKBOX VISIVEL, VOCE PODE DIMINUIR O ZOOM DA PAGINA PARA QUE TODOS FIQUEM VISIVEIS, EXECULTA O CODIGO QUE ELE NÃO VAI GERAR ERRO.\n",
    "    n=n+1\n",
    "\n",
    "navegador.find_element(By.XPATH, '//*[@id=\"obsAA\"]').send_keys(\"\"\"\n",
    "AQUI ADICIONE SUAS OBSERVAÇÕES OU DAS Avaliação Atitudinal\n",
    "\n",
    "\"\"\")\n",
    "\n",
    "navegador.find_element(By.XPATH, '//*[@id=\"salvar\"]').click()\n",
    "\n"
   ]
  },
  {
   "cell_type": "code",
   "execution_count": 43,
   "id": "4be90349",
   "metadata": {},
   "outputs": [
    {
     "data": {
      "text/plain": [
       "Point(x=693, y=269)"
      ]
     },
     "execution_count": 43,
     "metadata": {},
     "output_type": "execute_result"
    }
   ],
   "source": [
    "time.sleep(5)\n",
    "pyautogui.position()"
   ]
  }
 ],
 "metadata": {
  "kernelspec": {
   "display_name": "Python 3 (ipykernel)",
   "language": "python",
   "name": "python3"
  },
  "language_info": {
   "codemirror_mode": {
    "name": "ipython",
    "version": 3
   },
   "file_extension": ".py",
   "mimetype": "text/x-python",
   "name": "python",
   "nbconvert_exporter": "python",
   "pygments_lexer": "ipython3",
   "version": "3.11.4"
  }
 },
 "nbformat": 4,
 "nbformat_minor": 5
}
